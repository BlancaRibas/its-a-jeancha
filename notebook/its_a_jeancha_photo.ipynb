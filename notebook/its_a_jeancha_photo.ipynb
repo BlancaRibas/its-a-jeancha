{
 "cells": [
  {
   "cell_type": "code",
   "execution_count": 1,
   "id": "colored-trader",
   "metadata": {},
   "outputs": [],
   "source": [
    "import cv2\n",
    "import numpy as np"
   ]
  },
  {
   "cell_type": "code",
   "execution_count": 2,
   "id": "initial-wrestling",
   "metadata": {},
   "outputs": [],
   "source": [
    "#Clasificador de imagenes \n",
    "faceClassif = cv2.CascadeClassifier('haarcascade_frontalface_default.xml')"
   ]
  },
  {
   "cell_type": "code",
   "execution_count": 3,
   "id": "imported-syntax",
   "metadata": {},
   "outputs": [],
   "source": [
    "face_recognizer = cv2.face.LBPHFaceRecognizer_create()\n",
    "face_recognizer.read('modeloLBPHFace.xml')"
   ]
  },
  {
   "cell_type": "code",
   "execution_count": 4,
   "id": "saving-representative",
   "metadata": {},
   "outputs": [],
   "source": [
    "#lectura de imagen \n",
    "image = cv2.imread('image.png')\n"
   ]
  },
  {
   "cell_type": "code",
   "execution_count": 5,
   "id": "plain-mattress",
   "metadata": {},
   "outputs": [],
   "source": [
    "#transformacion a escala de grises\n",
    "gray = cv2.cvtColor(image,cv2.COLOR_BGR2GRAY)\n",
    "#Creamos copia de la imagen de entrada\n",
    "image_aux = gray.copy()"
   ]
  },
  {
   "cell_type": "code",
   "execution_count": 6,
   "id": "blank-representative",
   "metadata": {},
   "outputs": [],
   "source": [
    "#Aplicamos el clasificador de sobre la imagen \n",
    "faces = faceClassif.detectMultiScale(gray,\n",
    "  #Piramide de imagenes\n",
    "  scaleFactor=1.1,\n",
    "  #Numero minimo de cuadrados delimitadores vecinos para reconocer rostros\n",
    "  minNeighbors=5,\n",
    "  #Tamaño minimo de objetos\n",
    "  minSize=(30,30),\n",
    "  #Tamaño maximo del objeto\n",
    "  maxSize=(200,200))"
   ]
  },
  {
   "cell_type": "code",
   "execution_count": 7,
   "id": "fifty-steal",
   "metadata": {},
   "outputs": [],
   "source": [
    "for (x,y,w,h) in faces:\n",
    "    rostro = image_aux[y:y+h,x:x+w]\n",
    "    rostro = cv2.resize(rostro,(150,150),interpolation= cv2.INTER_CUBIC)\n",
    "    result = face_recognizer.predict(rostro)\n",
    "    cv2.putText(image,'{}'.format(result),(x,y-5),1,1.3,(255,255,0),1,cv2.LINE_AA)\n",
    "\n",
    "    if result[1] < 75:\n",
    "        cv2.putText(image,'jeancha!',(x,y-20),2,1.1,(0,0,255),1,cv2.LINE_AA)\n",
    "        cv2.rectangle(image,(x,y),(x+w,y+h),(0,255,0),2)\n",
    "    else:\n",
    "        cv2.putText(image,'Not a jeancha!',(x,y-20),2,0.8,(0,0,255),1,cv2.LINE_AA)\n",
    "        cv2.rectangle(image, (x,y),(x+w,y+h),(0,0,255),2)\n",
    "\n",
    "        \n"
   ]
  },
  {
   "cell_type": "code",
   "execution_count": null,
   "id": "impressed-reservation",
   "metadata": {},
   "outputs": [],
   "source": []
  },
  {
   "cell_type": "code",
   "execution_count": 8,
   "id": "distributed-avenue",
   "metadata": {},
   "outputs": [],
   "source": [
    "    #Visualizar la imagen\n",
    "    cv2.imshow('rectangulos de deteccion',image)\n",
    "    #tiempo de visualizacion con 0 se mantiene hasta presionar una tecla\n",
    "    cv2.waitKey(0)\n",
    "#cierra las ventanas generadas durante el proceso \n",
    "cv2.destroyAllWindows()"
   ]
  }
 ],
 "metadata": {
  "kernelspec": {
   "display_name": "Python 3",
   "language": "python",
   "name": "python3"
  },
  "varInspector": {
   "cols": {
    "lenName": 16,
    "lenType": 16,
    "lenVar": 40
   },
   "kernels_config": {
    "python": {
     "delete_cmd_postfix": "",
     "delete_cmd_prefix": "del ",
     "library": "var_list.py",
     "varRefreshCmd": "print(var_dic_list())"
    },
    "r": {
     "delete_cmd_postfix": ") ",
     "delete_cmd_prefix": "rm(",
     "library": "var_list.r",
     "varRefreshCmd": "cat(var_dic_list()) "
    }
   },
   "types_to_exclude": [
    "module",
    "function",
    "builtin_function_or_method",
    "instance",
    "_Feature"
   ],
   "window_display": false
  }
 },
 "nbformat": 4,
 "nbformat_minor": 5
}
