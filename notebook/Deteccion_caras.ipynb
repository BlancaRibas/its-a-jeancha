{
 "cells": [
  {
   "cell_type": "markdown",
   "id": "worldwide-comparison",
   "metadata": {},
   "source": [
    "### Dteccion de caras en una imagen "
   ]
  },
  {
   "cell_type": "markdown",
   "id": "looking-camera",
   "metadata": {},
   "source": [
    "Detecta el numero de caras en una imgen y las almacena en un banco de imagenes"
   ]
  },
  {
   "cell_type": "code",
   "execution_count": 7,
   "id": "dutch-blocking",
   "metadata": {},
   "outputs": [],
   "source": [
    "import cv2\n",
    "import numpy as np"
   ]
  },
  {
   "cell_type": "code",
   "execution_count": 9,
   "id": "photographic-breeding",
   "metadata": {},
   "outputs": [],
   "source": [
    "#Clasificador de imagenes \n",
    "faceClassif = cv2.CascadeClassifier('haarcascade_frontalface_default.xml')"
   ]
  },
  {
   "cell_type": "code",
   "execution_count": 10,
   "id": "natural-cargo",
   "metadata": {},
   "outputs": [],
   "source": [
    "#lectura de imagen \n",
    "image = cv2.imread('image.png')\n",
    "#Creamos copia de la imagen de entrada\n",
    "image_aux = image.copy()"
   ]
  },
  {
   "cell_type": "code",
   "execution_count": 11,
   "id": "favorite-glory",
   "metadata": {},
   "outputs": [],
   "source": [
    "#transformacion a escala de grises\n",
    "gray = cv2.cvtColor(image,cv2.COLOR_BGR2GRAY)"
   ]
  },
  {
   "cell_type": "code",
   "execution_count": 12,
   "id": "coordinate-former",
   "metadata": {},
   "outputs": [],
   "source": [
    "#Aplicamos el clasificador de sobre la imagen \n",
    "faces = faceClassif.detectMultiScale(gray,\n",
    "  #Piramide de imagenes\n",
    "  scaleFactor=1.1,\n",
    "  #Numero minimo de cuadrados delimitadores vecinos para reconocer rostros\n",
    "  minNeighbors=5,\n",
    "  #Tamaño minimo de objetos\n",
    "  minSize=(30,30),\n",
    "  #Tamaño maximo del objeto\n",
    "  maxSize=(200,200))"
   ]
  },
  {
   "cell_type": "code",
   "execution_count": 14,
   "id": "retired-supplier",
   "metadata": {},
   "outputs": [],
   "source": [
    "#Contador de rostros, para generar un identificador de cada cara almacenada \n",
    "count = 0 "
   ]
  },
  {
   "cell_type": "code",
   "execution_count": 16,
   "id": "adaptive-mentor",
   "metadata": {},
   "outputs": [],
   "source": [
    "#En caso de detectar un rostro almacenamos en un rectangulo las caras\n",
    "for (x,y,w,h) in faces:\n",
    "    cv2.rectangle(image,(x,y),(x+w,y+h),(0,255,0),2)\n",
    "\n",
    "    #Edicion de la cara encontrada\n",
    "    #Recortar la cara de la imagen de entrada\n",
    "    rostro = image_aux[y:y+h,x:x+w]\n",
    "    #Redimensionar la cara encontrada\n",
    "    rostro = cv2.resize(rostro,(150,150),interpolation = cv2.INTER_CUBIC)\n",
    "    #Alamacenar cara \n",
    "    cv2.imwrite('bancoimagenes/rostro_{}.jpg'.format(count),rostro)\n",
    "    count += 1     \n",
    " \n",
    "    #cv2.imshow('rectangulos de deteccion',rostro)\n",
    "\n",
    "    #Visualizar la imagen\n",
    "    #cv2.imshow('rectangulos de deteccion',image)\n",
    "    #tiempo de visualizacion con 0 se mantiene hasta presionar una tecla\n",
    "    #cv2.waitKey(0)\n",
    "#cierra las ventanas generadas durante el proceso \n",
    "cv2.destroyAllWindows()"
   ]
  }
 ],
 "metadata": {
  "kernelspec": {
   "display_name": "Python 3",
   "language": "python",
   "name": "python3"
  },
  "language_info": {
   "codemirror_mode": {
    "name": "ipython",
    "version": 3
   },
   "file_extension": ".py",
   "mimetype": "text/x-python",
   "name": "python",
   "nbconvert_exporter": "python",
   "pygments_lexer": "ipython3",
   "version": "3.9.1"
  },
  "varInspector": {
   "cols": {
    "lenName": 16,
    "lenType": 16,
    "lenVar": 40
   },
   "kernels_config": {
    "python": {
     "delete_cmd_postfix": "",
     "delete_cmd_prefix": "del ",
     "library": "var_list.py",
     "varRefreshCmd": "print(var_dic_list())"
    },
    "r": {
     "delete_cmd_postfix": ") ",
     "delete_cmd_prefix": "rm(",
     "library": "var_list.r",
     "varRefreshCmd": "cat(var_dic_list()) "
    }
   },
   "types_to_exclude": [
    "module",
    "function",
    "builtin_function_or_method",
    "instance",
    "_Feature"
   ],
   "window_display": false
  }
 },
 "nbformat": 4,
 "nbformat_minor": 5
}
