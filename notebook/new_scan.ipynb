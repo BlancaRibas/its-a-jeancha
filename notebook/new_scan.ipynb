{
 "cells": [
  {
   "cell_type": "markdown",
   "id": "extraordinary-sight",
   "metadata": {},
   "source": [
    "## Creacion de base de datos "
   ]
  },
  {
   "cell_type": "markdown",
   "id": "agricultural-fellow",
   "metadata": {},
   "source": [
    "La creacion de la base de datos se generara a partir de capturas procedentes de una o varias personas, o bien de estados de animo de una misma persona"
   ]
  },
  {
   "cell_type": "code",
   "execution_count": 11,
   "id": "electric-dominant",
   "metadata": {},
   "outputs": [],
   "source": [
    "import cv2\n",
    "import os\n",
    "import imutils"
   ]
  },
  {
   "cell_type": "code",
   "execution_count": 12,
   "id": "dangerous-threat",
   "metadata": {},
   "outputs": [],
   "source": [
    "# Asignamos a personName el nombre la persona donde se almacenara los rostros \n",
    "personName = 'Juanjo'"
   ]
  },
  {
   "cell_type": "code",
   "execution_count": 13,
   "id": "pointed-delicious",
   "metadata": {},
   "outputs": [
    {
     "name": "stdout",
     "output_type": "stream",
     "text": [
      "Juanjo\n"
     ]
    }
   ],
   "source": [
    "#Especificamos la ruta del directorio data creado a \"mano\"\n",
    "dataPath = 'data' \n",
    "personPath = dataPath + '/' + personName\n",
    "print(personName)"
   ]
  },
  {
   "cell_type": "code",
   "execution_count": 14,
   "id": "bored-citizen",
   "metadata": {},
   "outputs": [
    {
     "name": "stdout",
     "output_type": "stream",
     "text": [
      "Carpeta creada:  data/Juanjo\n"
     ]
    }
   ],
   "source": [
    "#Si no existe un directorio a analizar crearemos uno \n",
    "if not os.path.exists(personPath):\n",
    "    print('Carpeta creada: ',personPath)\n",
    "    os.makedirs(personPath)"
   ]
  },
  {
   "cell_type": "code",
   "execution_count": 15,
   "id": "recorded-kruger",
   "metadata": {},
   "outputs": [],
   "source": [
    "#Video de donde obtendremos la coleccion de rostros \n",
    "cap = cv2.VideoCapture('juanjo.mov')"
   ]
  },
  {
   "cell_type": "code",
   "execution_count": 16,
   "id": "normal-battle",
   "metadata": {},
   "outputs": [],
   "source": [
    "#Iniciamos el detector de reostros con haarcascades\n",
    "faceClassif = cv2.CascadeClassifier(cv2.data.haarcascades+'haarcascade_frontalface_default.xml')"
   ]
  },
  {
   "cell_type": "code",
   "execution_count": 17,
   "id": "sexual-announcement",
   "metadata": {},
   "outputs": [],
   "source": [
    "# leemos cada fotograma del video \n",
    "count = 0\n",
    "while True:\n",
    "    ret, frame = cap.read()\n",
    "    if ret == False: \n",
    "        break\n",
    "    #Redimensionamos el video\n",
    "    frame =  imutils.resize(frame, width=640)\n",
    "    \n",
    "    #Transformacion a escala de grises\n",
    "    gray = cv2.cvtColor(frame, cv2.COLOR_BGR2GRAY)\n",
    "    auxFrame = frame.copy()\n",
    "    \n",
    "    #Aplicamos el clasificador de sobre la imagen \n",
    "    faces = faceClassif.detectMultiScale(gray,1.3,5)\n",
    "    \n",
    "    #En caso de detectar un rostro almacenamos en un rectangulo las caras\n",
    "    for (x,y,w,h) in faces:\n",
    "        cv2.rectangle(frame, (x,y),(x+w,y+h),(0,255,0),2)\n",
    "        \n",
    "        #Edicion de la cara encontrada\n",
    "        #Recortar la cara de la imagen de entrada\n",
    "        rostro = auxFrame[y:y+h,x:x+w]\n",
    "        #redimensionar recorte (150X150pix)\n",
    "        rostro = cv2.resize(rostro,(150,150),interpolation=cv2.INTER_CUBIC)\n",
    "        #Almacenar cara recortada\n",
    "        cv2.imwrite(personPath + '/rostro_{}.jpg'.format(count),rostro)\n",
    "        count += 1\n",
    "    \n",
    "    #Visualizar video\n",
    "    #cv2.imshow('frame',frame)\n",
    "    \n",
    "    #Almacenamiento de 2000rostros \n",
    "    k =  cv2.waitKey(1)\n",
    "    if k == 27 or count >= 300:\n",
    "        break\n",
    "        \n",
    "cap.release()\n",
    "cv2.destroyAllWindows()\n",
    "    "
   ]
  }
 ],
 "metadata": {
  "kernelspec": {
   "display_name": "Python 3",
   "language": "python",
   "name": "python3"
  },
  "language_info": {
   "codemirror_mode": {
    "name": "ipython",
    "version": 3
   },
   "file_extension": ".py",
   "mimetype": "text/x-python",
   "name": "python",
   "nbconvert_exporter": "python",
   "pygments_lexer": "ipython3",
   "version": "3.9.1"
  },
  "varInspector": {
   "cols": {
    "lenName": 16,
    "lenType": 16,
    "lenVar": 40
   },
   "kernels_config": {
    "python": {
     "delete_cmd_postfix": "",
     "delete_cmd_prefix": "del ",
     "library": "var_list.py",
     "varRefreshCmd": "print(var_dic_list())"
    },
    "r": {
     "delete_cmd_postfix": ") ",
     "delete_cmd_prefix": "rm(",
     "library": "var_list.r",
     "varRefreshCmd": "cat(var_dic_list()) "
    }
   },
   "types_to_exclude": [
    "module",
    "function",
    "builtin_function_or_method",
    "instance",
    "_Feature"
   ],
   "window_display": false
  }
 },
 "nbformat": 4,
 "nbformat_minor": 5
}
